{
  "nbformat": 4,
  "nbformat_minor": 0,
  "metadata": {
    "colab": {
      "provenance": [],
      "collapsed_sections": [
        "y2PTVZC64N-I"
      ],
      "gpuType": "T4"
    },
    "kernelspec": {
      "name": "python3",
      "display_name": "Python 3"
    },
    "language_info": {
      "name": "python"
    },
    "accelerator": "GPU"
  },
  "cells": [
    {
      "cell_type": "markdown",
      "source": [
        "# **Building a character level Generative Pretrained Transformer (GPT) Model from scratch trained on Shakespeare Dataset**"
      ],
      "metadata": {
        "id": "SpXY-0G430hi"
      }
    },
    {
      "cell_type": "markdown",
      "source": [
        "## Importing Essential Libraries"
      ],
      "metadata": {
        "id": "y2PTVZC64N-I"
      }
    },
    {
      "cell_type": "code",
      "execution_count": null,
      "metadata": {
        "colab": {
          "base_uri": "https://localhost:8080/"
        },
        "id": "oHo1WIN6Pkq5",
        "outputId": "3345b847-5dfe-4ac9-e04f-bcbc6e7d6057"
      },
      "outputs": [
        {
          "output_type": "stream",
          "name": "stdout",
          "text": [
            "Drive already mounted at /content/drive; to attempt to forcibly remount, call drive.mount(\"/content/drive\", force_remount=True).\n"
          ]
        }
      ],
      "source": [
        "import torch\n",
        "import torch.nn as nn\n",
        "from torch.nn import functional as F\n",
        "import numpy as np\n",
        "import matplotlib.pyplot as plt\n",
        "from tqdm import tqdm\n",
        "torch.manual_seed(1337)\n",
        "\n",
        "from google.colab import drive\n",
        "drive.mount('/content/drive')"
      ]
    },
    {
      "cell_type": "markdown",
      "source": [
        "## Enabling CUDA for Faster Computation and Parallelization"
      ],
      "metadata": {
        "id": "Iz_FdhLA4fvt"
      }
    },
    {
      "cell_type": "code",
      "source": [
        "device = 'cuda' if torch.cuda.is_available() else 'cpu'"
      ],
      "metadata": {
        "id": "0Z6vUxVHQ1Nj"
      },
      "execution_count": null,
      "outputs": []
    },
    {
      "cell_type": "markdown",
      "source": [
        "## Reading input Text Data"
      ],
      "metadata": {
        "id": "9HXvUHxm4rzy"
      }
    },
    {
      "cell_type": "code",
      "source": [
        "# Reading Input data\n",
        "filename = 'input.txt'\n",
        "\n",
        "!wget https://raw.githubusercontent.com/karpathy/char-rnn/master/data/tinyshakespeare/input.txt\n",
        "with open(filename, 'r') as f:\n",
        "    text = f.read()\n",
        "f.close()"
      ],
      "metadata": {
        "colab": {
          "base_uri": "https://localhost:8080/"
        },
        "id": "TzAUWuKEPs9f",
        "outputId": "b6f13a66-4778-404e-a665-080faee50561"
      },
      "execution_count": null,
      "outputs": [
        {
          "output_type": "stream",
          "name": "stdout",
          "text": [
            "--2023-06-17 14:07:00--  https://raw.githubusercontent.com/karpathy/char-rnn/master/data/tinyshakespeare/input.txt\n",
            "Resolving raw.githubusercontent.com (raw.githubusercontent.com)... 185.199.108.133, 185.199.109.133, 185.199.110.133, ...\n",
            "Connecting to raw.githubusercontent.com (raw.githubusercontent.com)|185.199.108.133|:443... connected.\n",
            "HTTP request sent, awaiting response... 200 OK\n",
            "Length: 1115394 (1.1M) [text/plain]\n",
            "Saving to: ‘input.txt.2’\n",
            "\n",
            "\rinput.txt.2           0%[                    ]       0  --.-KB/s               \rinput.txt.2         100%[===================>]   1.06M  --.-KB/s    in 0.04s   \n",
            "\n",
            "2023-06-17 14:07:00 (28.5 MB/s) - ‘input.txt.2’ saved [1115394/1115394]\n",
            "\n"
          ]
        }
      ]
    },
    {
      "cell_type": "markdown",
      "source": [
        "## Tokenization of the Vocabulary List"
      ],
      "metadata": {
        "id": "qxKC1XPb4xKt"
      }
    },
    {
      "cell_type": "code",
      "source": [
        "#  Tokenization\n",
        "vocab = sorted(list(set(text)))\n",
        "word2idx = {vocab[i]: i for i in range(len(vocab))}\n",
        "idx2word = {i: vocab[i] for i in range(len(vocab))}\n",
        "def encode(s): return [word2idx[c] for c in s]\n",
        "def decode(i): return ''.join([idx2word[idx] for idx in i])\n",
        "\n",
        "\n",
        "data = torch.tensor(encode(text), dtype=torch.long)\n",
        "split = int(0.9*len(data))\n",
        "trainData = data[:split]\n",
        "testData = data[split:]"
      ],
      "metadata": {
        "id": "1khqvD-NP2ai"
      },
      "execution_count": null,
      "outputs": []
    },
    {
      "cell_type": "markdown",
      "source": [
        "## Defining Function to create Batch Data"
      ],
      "metadata": {
        "id": "6cjjUWjEVksr"
      }
    },
    {
      "cell_type": "code",
      "source": [
        "# Batch Generator\n",
        "def createBatch(split):\n",
        "    data = trainData if split == 'train' else testData\n",
        "    ix = torch.randint(len(data) - block_size, (batch_size,))\n",
        "    x = torch.stack([data[i:i+block_size] for i in ix])\n",
        "    y = torch.stack([data[i+1:i+block_size+1] for i in ix])\n",
        "    x, y = x.to(device), y.to(device)\n",
        "    return x, y"
      ],
      "metadata": {
        "id": "3L-3xUbWP2dd"
      },
      "execution_count": null,
      "outputs": []
    },
    {
      "cell_type": "markdown",
      "source": [
        "## Defining Loss Function"
      ],
      "metadata": {
        "id": "9uaRfGfcVtif"
      }
    },
    {
      "cell_type": "code",
      "source": [
        "#%% Defining Loss Function\n",
        "@torch.no_grad()\n",
        "def estimateLoss(model):\n",
        "    out = {}\n",
        "    model.eval()\n",
        "    for split in ['train', 'val']:\n",
        "        losses = torch.zeros(eval_iters)\n",
        "        for i in range(eval_iters):\n",
        "            x, y = createBatch(split)\n",
        "            logits, loss = model(x, y)\n",
        "            losses[i] = loss.item()\n",
        "        out[split] = losses.mean()\n",
        "    model.train()\n",
        "    return out"
      ],
      "metadata": {
        "id": "qoY-U8uHP2hC"
      },
      "execution_count": null,
      "outputs": []
    },
    {
      "cell_type": "markdown",
      "source": [
        "## Defining Class for a simple Bigram Model with just Embedding Layer"
      ],
      "metadata": {
        "id": "tKQmnAKpVyWF"
      }
    },
    {
      "cell_type": "code",
      "source": [
        "#%% Bigram Model\n",
        "class BiGramModel(nn.Module):\n",
        "    def __init__(self, vocab_size):\n",
        "        super().__init__()\n",
        "        self.token_embedding_table = nn.Embedding(vocab_size, vocab_size)\n",
        "        self.batch_size = 32\n",
        "\n",
        "    def forward(self, idx, targets=None):\n",
        "        logits = self.token_embedding_table(idx)\n",
        "        if targets == None:\n",
        "            loss = None\n",
        "        else:\n",
        "            B, T, C = logits.shape\n",
        "            logits = logits.view(B*T, C)\n",
        "            targets = targets.view(B*T)\n",
        "            loss = F.cross_entropy(logits, targets)\n",
        "        return logits, loss\n",
        "\n",
        "    def generate(self, idx, max_new_tokens):\n",
        "        # idx is of shape (B,T)\n",
        "        for _ in range(max_new_tokens):\n",
        "            logits, loss = self(idx)\n",
        "            # becomes (B,C) as only last T is selected\n",
        "            logits = logits[:,-1, :]\n",
        "\n",
        "            # converting logits to probabilities\n",
        "            probs = F.softmax(logits, dim=-1)\n",
        "\n",
        "            # sampling from the prob distribution\n",
        "            idx_next = torch.multinomial(probs, num_samples=1)\n",
        "\n",
        "            # append smapled index to the running sequence (B, T+1)\n",
        "            idx = torch.cat((idx, idx_next), dim=1)\n",
        "        return idx"
      ],
      "metadata": {
        "id": "jSFJSWF2P2lL"
      },
      "execution_count": null,
      "outputs": []
    },
    {
      "cell_type": "markdown",
      "source": [
        "## Defining a Class for Self attention model as that of Decoder in the Transformer Architecture"
      ],
      "metadata": {
        "id": "q0Qn1zAPV8zg"
      }
    },
    {
      "cell_type": "code",
      "source": [
        "#%% SelfAttentionModel\n",
        "class SelfAttentionModel(nn.Module):\n",
        "    def __init__(self):\n",
        "        super().__init__()\n",
        "        self.token_embedding_table = nn.Embedding(vocab_size, n_eDim)\n",
        "        self.positional_encoding_table = nn.Embedding(block_size,n_eDim)\n",
        "        # self.sa_heads = MultiHeadAttention(4, n_eDim//4)\n",
        "        self.blocks = nn.Sequential(\n",
        "            Block(n_eDim, num_heads = 6),\n",
        "            Block(n_eDim, num_heads = 6),\n",
        "            Block(n_eDim, num_heads = 6),\n",
        "            Block(n_eDim, num_heads = 6),\n",
        "            Block(n_eDim, num_heads = 6),\n",
        "            Block(n_eDim, num_heads = 6),\n",
        "            nn.LayerNorm((n_eDim))\n",
        "            )\n",
        "        self.lm_head = nn.Linear(n_eDim, vocab_size)\n",
        "\n",
        "    def forward(self, idx, targets=None):\n",
        "        B, T = idx.shape\n",
        "        token_embds = self.token_embedding_table(idx) #(B,T,C)\n",
        "        pos_embds = self.positional_encoding_table(torch.arange(T, device=device)) #(T,C)\n",
        "        x = token_embds + pos_embds #(B,T,C)\n",
        "        x = self.blocks(x) #(B,T,C)\n",
        "        # x = self.ffw(x) #(B,T,C)\n",
        "        logits = self.lm_head(x) #(B,T, vocab_size)\n",
        "        if targets == None:\n",
        "            loss = None\n",
        "        else:\n",
        "            B, T, C = logits.shape\n",
        "            logits = logits.view(B*T, C)\n",
        "            targets = targets.view(B*T)\n",
        "            loss = F.cross_entropy(logits, targets)\n",
        "        return logits, loss\n",
        "\n",
        "    def generate(self, idx, max_new_tokens):\n",
        "        # idx is of shape (B,T)\n",
        "        for _ in range(max_new_tokens):\n",
        "            idx_crop = idx[:,- block_size:]\n",
        "            logits, loss = self(idx_crop)\n",
        "            # becomes (B,C) as only last T is selected\n",
        "            logits = logits[:,-1, :]\n",
        "\n",
        "            # converting logits to probabilities\n",
        "            probs = F.softmax(logits, dim=-1)\n",
        "\n",
        "            # sampling from the prob distribution\n",
        "            idx_next = torch.multinomial(probs, num_samples=1)\n",
        "\n",
        "            # append smapled index to the running sequence (B, T+1)\n",
        "            idx = torch.cat((idx, idx_next), dim=1)\n",
        "        return idx"
      ],
      "metadata": {
        "id": "E6qjF6IiP2pW"
      },
      "execution_count": null,
      "outputs": []
    },
    {
      "cell_type": "markdown",
      "source": [
        "## Defining a Class for the single self-Attention head"
      ],
      "metadata": {
        "id": "uEAVqIVmWPzO"
      }
    },
    {
      "cell_type": "code",
      "source": [
        "#%% Self Attention Head\n",
        "class AttentionHead(nn.Module):\n",
        "    def __init__(self, head_size):\n",
        "        super().__init__()\n",
        "        self.key = nn.Linear(n_eDim, head_size, bias = False)\n",
        "        self.query = nn.Linear(n_eDim, head_size, bias = False)\n",
        "        self.value = nn.Linear(n_eDim, head_size, bias = False)\n",
        "        self.register_buffer('tril', torch.tril(torch.ones((block_size, block_size))))\n",
        "        self.dropout = nn.Dropout(dropout)\n",
        "\n",
        "    def forward(self, x):\n",
        "        B,T,C = x.shape\n",
        "        k = self.key(x) # (B,T, head_size\n",
        "        q = self.query(x) # (B,T, head_size)\n",
        "        wei = q @ k.transpose(-2,-1)* C**-0.5 #(B,T,C) @ (B,C,T) --> (B,T,T)\n",
        "        wei = wei.masked_fill(self.tril[:T,:T] == 0, float('-inf')) #(B,T,T)\n",
        "        wei = F.softmax(wei, dim = -1)\n",
        "        wei = self.dropout(wei)\n",
        "        v = self.value(x)\n",
        "        out = wei @ v\n",
        "        return out"
      ],
      "metadata": {
        "id": "7GS4jrIXP2sv"
      },
      "execution_count": null,
      "outputs": []
    },
    {
      "cell_type": "markdown",
      "source": [
        "## Defining a class for Feef Forward head"
      ],
      "metadata": {
        "id": "EwOhgsg3WdGK"
      }
    },
    {
      "cell_type": "code",
      "source": [
        "#%% Feed Forward Layer\n",
        "class FeedForward(nn.Module):\n",
        "    def __init__(self, n_eDim):\n",
        "        super().__init__()\n",
        "        self.net = nn.Sequential(nn.Linear(n_eDim, 4*n_eDim),\n",
        "            nn.ReLU(),\n",
        "            nn.Linear(4*n_eDim, n_eDim),\n",
        "            nn.Dropout(dropout))\n",
        "\n",
        "    def forward(self, x):\n",
        "        return self.net(x)"
      ],
      "metadata": {
        "id": "ky_6kL1FPwGx"
      },
      "execution_count": null,
      "outputs": []
    },
    {
      "cell_type": "markdown",
      "source": [
        "## Defining a Class for the multiple self-Attention heads"
      ],
      "metadata": {
        "id": "UnT2QTupWpAD"
      }
    },
    {
      "cell_type": "code",
      "source": [
        "#%% Multi-Head Attention Model\n",
        "class MultiHeadAttention(nn.Module):\n",
        "    def __init__(self, num_heads, head_size):\n",
        "        super().__init__()\n",
        "        self.mheads = nn.ModuleList([AttentionHead(head_size) for _ in range(num_heads)])\n",
        "        self.proj = nn.Linear(n_eDim, n_eDim)\n",
        "        self.dropout = nn.Dropout(dropout)\n",
        "\n",
        "    def forward(self,x):\n",
        "        out = torch.cat([h(x) for h in self.mheads], dim = -1)\n",
        "        out = self.proj(out)\n",
        "        out = self.dropout(out)\n",
        "        return  out"
      ],
      "metadata": {
        "id": "OIpfFglJQTwf"
      },
      "execution_count": null,
      "outputs": []
    },
    {
      "cell_type": "markdown",
      "source": [
        "## Defining a class that assembles attention and feedforward heads"
      ],
      "metadata": {
        "id": "Zj4fX-RLWvQk"
      }
    },
    {
      "cell_type": "code",
      "source": [
        "#%% Decoder block\n",
        "class Block(nn.Module):\n",
        "    def __init__(self, n_eDim, num_heads):\n",
        "        super().__init__()\n",
        "        head_size = n_eDim//num_heads\n",
        "        self.sa = MultiHeadAttention(num_heads, head_size)\n",
        "        self.ffw = FeedForward(n_eDim)\n",
        "        self.lnorm1 = nn.LayerNorm(n_eDim)\n",
        "        self.lnorm2 = nn.LayerNorm(n_eDim)\n",
        "\n",
        "\n",
        "    def forward(self, x):\n",
        "        x = x + self.sa(self.lnorm1(x))\n",
        "        x = x + self.ffw(self.lnorm2(x))\n",
        "        return x"
      ],
      "metadata": {
        "id": "esylxvegQZb6"
      },
      "execution_count": null,
      "outputs": []
    },
    {
      "cell_type": "markdown",
      "source": [
        "## Defining a class for Batch normalization in 1D"
      ],
      "metadata": {
        "id": "8X8N76UZXAas"
      }
    },
    {
      "cell_type": "code",
      "source": [
        "#%% Layer/Batch Normalization\n",
        "class BatchNorm1D:\n",
        "    def __init__(self, dim, eps = 1e-5, momentum = 0.1):\n",
        "        self.eps = eps\n",
        "        self.gamma = torch.ones(dim)\n",
        "        self.beta = torch.zeros(dim)\n",
        "\n",
        "    def __call__(self,x):\n",
        "        xmean = x.mean(1, keepDim = True) #batch mean\n",
        "        xvar = x.var(1, keepDim = True)\n",
        "        xhat = (x-xmean)/torch.sqrt(xvar + self.eps)\n",
        "        self.out = self.gamma*xhat  + self.beta\n",
        "        return self.out\n",
        "\n",
        "    def parameters(self):\n",
        "        return [self.gamma, self.beta]"
      ],
      "metadata": {
        "id": "rZZ0kj6uQZnA"
      },
      "execution_count": null,
      "outputs": []
    },
    {
      "cell_type": "markdown",
      "source": [
        "## Block of code that performs GPT model training"
      ],
      "metadata": {
        "id": "9R0_ppwJXHsa"
      }
    },
    {
      "cell_type": "code",
      "source": [
        "#%%\n",
        "block_size = 64\n",
        "batch_size = 256\n",
        "max_iter_num = 5000\n",
        "iter_interval = 500\n",
        "eval_iters = 200\n",
        "n_eDim = 384\n",
        "num_heads = 6\n",
        "num_layers = 6\n",
        "vocab_size = len(vocab)\n",
        "lr = 3e-4\n",
        "dropout = 0.2\n",
        "\n",
        "x, y = createBatch('train')\n",
        "\n",
        "m = SelfAttentionModel()\n",
        "model = m.to(device)\n",
        "logits, loss = m(x, y)\n",
        "\n",
        "optimizer = torch.optim.AdamW(m.parameters(), lr=lr)\n",
        "for iter in tqdm(range(max_iter_num)):\n",
        "\n",
        "    # Verbose\n",
        "    if iter % iter_interval == 0:\n",
        "        losses = estimateLoss(m)\n",
        "        print(f\"step {iter}: train loss {losses['train']:.4f}, val loss {losses['val']:.4f}\")\n",
        "\n",
        "    #create Batches\n",
        "    xb, yb = createBatch('train')\n",
        "\n",
        "    # evaluate loss\n",
        "    logits, loss = m(xb, yb)\n",
        "    optimizer.zero_grad(set_to_none=True)\n",
        "    loss.backward()\n",
        "    optimizer.step()"
      ],
      "metadata": {
        "colab": {
          "base_uri": "https://localhost:8080/"
        },
        "id": "FWBO1EihQZqk",
        "outputId": "3492d2be-4dd3-4f3f-8ad8-9c91cfc32f0e"
      },
      "execution_count": null,
      "outputs": [
        {
          "output_type": "stream",
          "name": "stderr",
          "text": [
            "\r  0%|          | 0/5000 [00:00<?, ?it/s]"
          ]
        },
        {
          "output_type": "stream",
          "name": "stdout",
          "text": [
            "step 0: train loss 4.3689, val loss 4.3670\n"
          ]
        },
        {
          "output_type": "stream",
          "name": "stderr",
          "text": [
            " 10%|█         | 500/5000 [04:27<31:13,  2.40it/s]"
          ]
        },
        {
          "output_type": "stream",
          "name": "stdout",
          "text": [
            "step 500: train loss 1.6473, val loss 1.8088\n"
          ]
        },
        {
          "output_type": "stream",
          "name": "stderr",
          "text": [
            " 20%|██        | 1000/5000 [08:52<27:56,  2.39it/s]"
          ]
        },
        {
          "output_type": "stream",
          "name": "stdout",
          "text": [
            "step 1000: train loss 1.4336, val loss 1.6295\n"
          ]
        },
        {
          "output_type": "stream",
          "name": "stderr",
          "text": [
            " 30%|███       | 1500/5000 [13:16<24:32,  2.38it/s]"
          ]
        },
        {
          "output_type": "stream",
          "name": "stdout",
          "text": [
            "step 1500: train loss 1.3363, val loss 1.5687\n"
          ]
        },
        {
          "output_type": "stream",
          "name": "stderr",
          "text": [
            " 40%|████      | 2000/5000 [17:40<20:39,  2.42it/s]"
          ]
        },
        {
          "output_type": "stream",
          "name": "stdout",
          "text": [
            "step 2000: train loss 1.2800, val loss 1.5380\n"
          ]
        },
        {
          "output_type": "stream",
          "name": "stderr",
          "text": [
            " 50%|█████     | 2500/5000 [22:03<17:12,  2.42it/s]"
          ]
        },
        {
          "output_type": "stream",
          "name": "stdout",
          "text": [
            "step 2500: train loss 1.2406, val loss 1.5256\n"
          ]
        },
        {
          "output_type": "stream",
          "name": "stderr",
          "text": [
            " 60%|██████    | 3000/5000 [26:27<13:49,  2.41it/s]"
          ]
        },
        {
          "output_type": "stream",
          "name": "stdout",
          "text": [
            "step 3000: train loss 1.2047, val loss 1.5208\n"
          ]
        },
        {
          "output_type": "stream",
          "name": "stderr",
          "text": [
            " 70%|███████   | 3500/5000 [30:51<10:18,  2.43it/s]"
          ]
        },
        {
          "output_type": "stream",
          "name": "stdout",
          "text": [
            "step 3500: train loss 1.1692, val loss 1.5166\n"
          ]
        },
        {
          "output_type": "stream",
          "name": "stderr",
          "text": [
            " 80%|████████  | 4000/5000 [35:14<06:49,  2.44it/s]"
          ]
        },
        {
          "output_type": "stream",
          "name": "stdout",
          "text": [
            "step 4000: train loss 1.1359, val loss 1.5219\n"
          ]
        },
        {
          "output_type": "stream",
          "name": "stderr",
          "text": [
            " 90%|█████████ | 4500/5000 [39:37<03:27,  2.42it/s]"
          ]
        },
        {
          "output_type": "stream",
          "name": "stdout",
          "text": [
            "step 4500: train loss 1.1066, val loss 1.5228\n"
          ]
        },
        {
          "output_type": "stream",
          "name": "stderr",
          "text": [
            "100%|██████████| 5000/5000 [44:00<00:00,  1.89it/s]\n"
          ]
        }
      ]
    },
    {
      "cell_type": "markdown",
      "source": [
        "## Block of code that prints the model summary and weight dictionaries"
      ],
      "metadata": {
        "id": "-t17_79rXTRv"
      }
    },
    {
      "cell_type": "code",
      "source": [
        "# Print model's state_dict\n",
        "print(\"Model's state_dict:\")\n",
        "for param_tensor in m.state_dict():\n",
        "    print(param_tensor, \"\\t\", model.state_dict()[param_tensor].size())\n",
        "\n",
        "# Print optimizer's state_dict\n",
        "print(\"Optimizer's state_dict:\")\n",
        "for var_name in optimizer.state_dict():\n",
        "    print(var_name, \"\\t\", optimizer.state_dict()[var_name])"
      ],
      "metadata": {
        "id": "I_OhgqF4gz91"
      },
      "execution_count": null,
      "outputs": []
    },
    {
      "cell_type": "markdown",
      "source": [
        "## Saving the trained Model"
      ],
      "metadata": {
        "id": "6h5ICZisXapE"
      }
    },
    {
      "cell_type": "code",
      "source": [
        "PATH = 'drive/MyDrive/Colab Notebooks'\n",
        "torch.save(m,'/content/drive/My Drive/model.pth')"
      ],
      "metadata": {
        "id": "Ey0Ewe0QhXwu"
      },
      "execution_count": null,
      "outputs": []
    },
    {
      "cell_type": "markdown",
      "source": [
        "## Generating Text from the trained GPT model"
      ],
      "metadata": {
        "id": "63UY_ii0XhGp"
      }
    },
    {
      "cell_type": "code",
      "source": [
        "#%% Generate from the Model\n",
        "context = torch.zeros((1, 1), dtype=torch.long, device = device)\n",
        "print(decode(m.generate(context,max_new_tokens=1000)[0].tolist()))"
      ],
      "metadata": {
        "colab": {
          "base_uri": "https://localhost:8080/"
        },
        "id": "Z9Y9itnjQZt9",
        "outputId": "35956285-b7ba-421b-d989-ffaf10c10220"
      },
      "execution_count": null,
      "outputs": [
        {
          "output_type": "stream",
          "name": "stdout",
          "text": [
            "\n",
            "What we'll say this issue forward not vex'd.\n",
            "\n",
            "PAULINA:\n",
            "No, gentle unsulen begians,\n",
            "Yet father of mine. For this faith, I pray?\n",
            "\n",
            "SAMPSON:\n",
            "Great Claudio, to thy bed;\n",
            "To her willy set's and a phins child not of war,\n",
            "Still our mise-waters: come away in, for Warwick's name\n",
            "For his ladition; a great day;\n",
            "Impropering to be sured to his term iron,\n",
            "Whereof treason? I will beat your black counsel\n",
            "cracked withal\n",
            "The crims of ears. But how a idle due that's\n",
            "the wish chines, the spoils of my Ments did, and my\n",
            "friend, the blood-stark is a piwer to power.\n",
            "\n",
            "Clown:\n",
            "Then goes, Aumerle, sir, to give thee to grief;\n",
            "Let me command, come; to six her to antooth help\n",
            "of his is wit, they shall say 'twere let me\n",
            "Ascripture my guilt wasls; come, now back.\n",
            "\n",
            "KING EDWARD IV:\n",
            "Son, Claudio hath done me at the Enforce!\n",
            "\n",
            "FRIZABETH:\n",
            "Ay, back again to you the reason's weak;\n",
            "And so ill she would green courtesy to nother\n",
            "Many, knightly ears, but advanted. City,\n",
            "Since it is Christen'd from Warwick, and said\n",
            "That I'll not se\n"
          ]
        }
      ]
    }
  ]
}